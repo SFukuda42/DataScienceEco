{
 "cells": [
  {
   "cell_type": "markdown",
   "id": "a8f97926",
   "metadata": {},
   "source": [
    "# Data Science Tools and Ecosystems"
   ]
  },
  {
   "cell_type": "markdown",
   "id": "941bfb14",
   "metadata": {},
   "source": [
    "## In this notebook, Data Science Tools and Ecosystems are summarized."
   ]
  },
  {
   "cell_type": "markdown",
   "id": "35402f81",
   "metadata": {},
   "source": [
    "**Objectives**\n",
    "- Languages of Data Science\n",
    "- Introduction to Python\n",
    "- Introduction to SQL\n",
    "- Libraries to Data Science\n",
    "- Get Started with Jupyter notebook"
   ]
  },
  {
   "cell_type": "markdown",
   "id": "c7fc72e3",
   "metadata": {},
   "source": [
    "## Some of the popular languages that Data Science use are:\n",
    "1. Python\n",
    "2. R\n",
    "3. SQL"
   ]
  },
  {
   "cell_type": "markdown",
   "id": "422d782a",
   "metadata": {},
   "source": [
    "# Some of the commonly used libraries used by Data Scientists include:\n",
    "1. Panda\n",
    "2. Numpy\n",
    "3. Matplotlib"
   ]
  },
  {
   "cell_type": "markdown",
   "id": "87cd8239",
   "metadata": {},
   "source": [
    "|Data Science Tools|\n",
    "|------------------|\n",
    "|RStudio|\n",
    "|Apache Spark|\n",
    "|TensorFlow|"
   ]
  },
  {
   "cell_type": "markdown",
   "id": "7594b342",
   "metadata": {},
   "source": [
    "### Below are a few evaluating arithmetic expressions in Python"
   ]
  },
  {
   "cell_type": "markdown",
   "id": "908100c4",
   "metadata": {},
   "source": [
    "#### This a simple arithmetic expression to multiply the add integers\n",
    "equasion is: (3*4)+5\n"
   ]
  },
  {
   "cell_type": "code",
   "execution_count": 1,
   "id": "ae3bf0e3",
   "metadata": {},
   "outputs": [
    {
     "data": {
      "text/plain": [
       "12"
      ]
     },
     "execution_count": 1,
     "metadata": {},
     "output_type": "execute_result"
    }
   ],
   "source": [
    "(3*4)\n"
   ]
  },
  {
   "cell_type": "code",
   "execution_count": 2,
   "id": "d425d1da",
   "metadata": {},
   "outputs": [
    {
     "data": {
      "text/plain": [
       "17"
      ]
     },
     "execution_count": 2,
     "metadata": {},
     "output_type": "execute_result"
    }
   ],
   "source": [
    "12+5"
   ]
  },
  {
   "cell_type": "markdown",
   "id": "4fef9c7b",
   "metadata": {},
   "source": [
    "200 minutes into hours\n",
    " This will convert 200 minutes into hours by diving by 60"
   ]
  },
  {
   "cell_type": "code",
   "execution_count": 3,
   "id": "cc60cdd5",
   "metadata": {},
   "outputs": [
    {
     "data": {
      "text/plain": [
       "3.3333333333333335"
      ]
     },
     "execution_count": 3,
     "metadata": {},
     "output_type": "execute_result"
    }
   ],
   "source": [
    "200/60"
   ]
  },
  {
   "cell_type": "markdown",
   "id": "ce6057c4",
   "metadata": {},
   "source": [
    "## Author\n",
    "Sara Fukuda"
   ]
  },
  {
   "cell_type": "code",
   "execution_count": null,
   "id": "7cc644ae",
   "metadata": {},
   "outputs": [],
   "source": []
  }
 ],
 "metadata": {
  "kernelspec": {
   "display_name": "Python 3 (ipykernel)",
   "language": "python",
   "name": "python3"
  },
  "language_info": {
   "codemirror_mode": {
    "name": "ipython",
    "version": 3
   },
   "file_extension": ".py",
   "mimetype": "text/x-python",
   "name": "python",
   "nbconvert_exporter": "python",
   "pygments_lexer": "ipython3",
   "version": "3.11.3"
  }
 },
 "nbformat": 4,
 "nbformat_minor": 5
}
